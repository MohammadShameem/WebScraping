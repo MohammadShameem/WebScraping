{
 "cells": [
  {
   "cell_type": "markdown",
   "metadata": {},
   "source": [
    "# The below code for the question options "
   ]
  },
  {
   "cell_type": "code",
   "execution_count": null,
   "metadata": {},
   "outputs": [],
   "source": [
    "import requests\n",
    "r = requests.get('https://www.bcsprep.com/bcsquestionsbyyear.php?id=39')\n",
    "from bs4 import BeautifulSoup  \n",
    "soup = BeautifulSoup(r.text, 'html.parser')\n",
    "results = soup.find_all('div', attrs={'class':'radio'})   \n",
    "\n",
    "records = []  \n",
    "options=' '\n",
    "sum=3\n",
    "i=0\n",
    "for result in results:  \n",
    "    options =result.find('label').text+','+options\n",
    "    if sum ==i:\n",
    "        sum=sum+4;\n",
    "        records.append((options))\n",
    "        options=' '\n",
    "    i=i+1\n",
    "\n",
    "     \n",
    "import pandas as pd  \n",
    "df = pd.DataFrame(records, columns=['options'])   \n",
    "df.to_csv('39_BCS_options.csv', index=False, encoding='utf-8') \n"
   ]
  },
  {
   "cell_type": "markdown",
   "metadata": {},
   "source": [
    "# The below code for the anwsers"
   ]
  },
  {
   "cell_type": "code",
   "execution_count": 51,
   "metadata": {},
   "outputs": [],
   "source": [
    "import requests\n",
    "r = requests.get('https://www.bcsprep.com/bcsquestionsbyyear.php?id=11')\n",
    "from bs4 import BeautifulSoup  \n",
    "\n",
    "soup = BeautifulSoup(r.text, \"html.parser\")\n",
    "get_details = soup.find_all(\"input\", attrs={\"type\":\"hidden\"})\n",
    "records = []  \n",
    "for val in get_details:\n",
    "    answers = val[\"value\"]\n",
    "    #print(get_val)\n",
    "    records.append((answers))\n",
    "    \n",
    "import pandas as pd  \n",
    "df = pd.DataFrame(records, columns=['answers'])   \n",
    "df.to_csv('11_BCS_answers.csv', index=False, encoding='utf-8') "
   ]
  },
  {
   "cell_type": "code",
   "execution_count": 37,
   "metadata": {},
   "outputs": [],
   "source": [
    "#it is for questions from the site https://www.bcsprep.com/bcsquestionsbyyear.php?id=12\n",
    "\n",
    "\n",
    "\n",
    "import requests\n",
    "r = requests.get('https://www.bcsprep.com/bcsquestionsbyyear.php?id=12')\n",
    "from bs4 import BeautifulSoup  \n",
    "soup = BeautifulSoup(r.text, 'html.parser')\n",
    "\n",
    "id=1\n",
    "records = []  \n",
    "for result in range(95):  \n",
    "    q='questionid'+str(id)\n",
    "    results = soup.find_all('div', attrs={'id':q})   \n",
    "    first_result=results[0]\n",
    "    records.append((first_result.contents[0]))\n",
    "    id=id+1;\n",
    "    \n",
    "import pandas as pd  \n",
    "df = pd.DataFrame(records, columns=['questions'])   \n",
    "df.to_csv('12_BCS_questions.csv', index=False, encoding='utf-8') "
   ]
  },
  {
   "cell_type": "code",
   "execution_count": 10,
   "metadata": {},
   "outputs": [
    {
     "data": {
      "text/plain": [
       "[('1. আন্তর্জাতিক রেডক্রস এর সদর দপ্তরঃ', 'Answer : B', ['ভিয়েনা']),\n",
       " ('2. War and Peace উপন্যাসের রচয়িতা', 'Answer : A', ['লিওটলষ্টয়']),\n",
       " ('3. বর্তমানে ন্যামের সদস্য সংখ্যাঃ', 'Answer : D', ['৩৩'])]"
      ]
     },
     "execution_count": 10,
     "metadata": {},
     "output_type": "execute_result"
    }
   ],
   "source": [
    "# Get Data from the site http://www.bcssolutionbd.com/preliminary-question-bank/?preliminary=36\n",
    "import requests\n",
    "r = requests.get('http://www.bcssolutionbd.com/preliminary-question-bank/?preliminary=36')\n",
    "from bs4 import BeautifulSoup  \n",
    "soup = BeautifulSoup(r.text, 'html.parser')\n",
    "results = soup.find_all('article', attrs={'class':'post excerpt'})   \n",
    "records = []  \n",
    "for result in results:  \n",
    "    questions=result.find('a').text\n",
    "    answers=result.find('span').text\n",
    "    records.append((questions,answers))\n",
    "#import pandas as pd  \n",
    "#df = pd.DataFrame(records, columns=['questions','answers'])   \n",
    "#df.to_csv('36_BCS_question_answers.csv', index=False, encoding='utf-8') "
   ]
  },
  {
   "cell_type": "code",
   "execution_count": 18,
   "metadata": {},
   "outputs": [],
   "source": [
    "# Get Data from the site http://www.bcssolutionbd.com/preliminary-question-bank/?preliminary=36\n",
    "import requests\n",
    "r = requests.get('http://www.bcssolutionbd.com/preliminary-question-bank/?preliminary=36')\n",
    "from bs4 import BeautifulSoup  \n",
    "soup = BeautifulSoup(r.text, 'html.parser')  \n",
    "records = []  \n",
    "for li_tag in soup.find_all('ul', {'class':'question-item'}):\n",
    "    i=0\n",
    "    options=''\n",
    "    for span_tag in li_tag.find_all('li'):\n",
    "        options = span_tag.text+','+options\n",
    "        i=i+1\n",
    "        if 4==i:\n",
    "            records.append((options))\n",
    "        \n",
    "import pandas as pd  \n",
    "df = pd.DataFrame(records, columns=['options'])   \n",
    "df.to_csv('36_BCS_options.csv', index=False, encoding='utf-8') "
   ]
  },
  {
   "cell_type": "code",
   "execution_count": null,
   "metadata": {},
   "outputs": [],
   "source": []
  }
 ],
 "metadata": {
  "kernelspec": {
   "display_name": "Python 3",
   "language": "python",
   "name": "python3"
  },
  "language_info": {
   "codemirror_mode": {
    "name": "ipython",
    "version": 3
   },
   "file_extension": ".py",
   "mimetype": "text/x-python",
   "name": "python",
   "nbconvert_exporter": "python",
   "pygments_lexer": "ipython3",
   "version": "3.6.5"
  }
 },
 "nbformat": 4,
 "nbformat_minor": 2
}
