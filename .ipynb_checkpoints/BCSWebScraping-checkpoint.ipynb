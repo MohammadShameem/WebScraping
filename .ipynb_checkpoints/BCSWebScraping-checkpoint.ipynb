{
 "cells": [
  {
   "cell_type": "markdown",
   "metadata": {},
   "source": [
    "# The below code for the question options "
   ]
  },
  {
   "cell_type": "code",
   "execution_count": null,
   "metadata": {},
   "outputs": [],
   "source": [
    "import requests\n",
    "r = requests.get('https://www.bcsprep.com/bcsquestionsbyyear.php?id=10')\n",
    "from bs4 import BeautifulSoup  \n",
    "soup = BeautifulSoup(r.text, 'html.parser')\n",
    "results = soup.find_all('div', attrs={'class':'radio'})   \n",
    "\n",
    "records = []  \n",
    "\n",
    "for result in results:  \n",
    "    options =result.find('label').text \n",
    "    records.append((options))\n",
    "     \n",
    "import pandas as pd  \n",
    "df = pd.DataFrame(records, columns=['options'])   \n",
    "df.to_csv('10BCSoptions.csv', index=False, encoding='utf-8') \n"
   ]
  },
  {
   "cell_type": "markdown",
   "metadata": {},
   "source": [
    "# The below code for the anwsers"
   ]
  },
  {
   "cell_type": "code",
   "execution_count": 51,
   "metadata": {},
   "outputs": [],
   "source": [
    "import requests\n",
    "r = requests.get('https://www.bcsprep.com/bcsquestionsbyyear.php?id=11')\n",
    "from bs4 import BeautifulSoup  \n",
    "\n",
    "soup = BeautifulSoup(r.text, \"html.parser\")\n",
    "get_details = soup.find_all(\"input\", attrs={\"type\":\"hidden\"})\n",
    "records = []  \n",
    "for val in get_details:\n",
    "    answers = val[\"value\"]\n",
    "    #print(get_val)\n",
    "    records.append((answers))\n",
    "    \n",
    "import pandas as pd  \n",
    "df = pd.DataFrame(records, columns=['answers'])   \n",
    "df.to_csv('11_BCS_answers.csv', index=False, encoding='utf-8') "
   ]
  },
  {
   "cell_type": "code",
   "execution_count": 11,
   "metadata": {},
   "outputs": [],
   "source": [
    "#it is for questions\n",
    "\n",
    "\n",
    "\n",
    "import requests\n",
    "r = requests.get('https://www.bcsprep.com/bcsquestionsbyyear.php?id=10')\n",
    "from bs4 import BeautifulSoup  \n",
    "soup = BeautifulSoup(r.text, 'html.parser')\n",
    "\n",
    "id=1\n",
    "records = []  \n",
    "for result in range(98):  \n",
    "    q='questionid'+str(id)\n",
    "    results = soup.find_all('div', attrs={'id':q})   \n",
    "    first_result=results[0]\n",
    "    records.append((first_result.contents[0]))\n",
    "    id=id+1;\n",
    "    \n",
    "import pandas as pd  \n",
    "df = pd.DataFrame(records, columns=['questions'])   \n",
    "df.to_csv('10_BCS_questions.csv', index=False, encoding='utf-8') "
   ]
  },
  {
   "cell_type": "code",
   "execution_count": null,
   "metadata": {},
   "outputs": [],
   "source": []
  }
 ],
 "metadata": {
  "kernelspec": {
   "display_name": "Python 3",
   "language": "python",
   "name": "python3"
  },
  "language_info": {
   "codemirror_mode": {
    "name": "ipython",
    "version": 3
   },
   "file_extension": ".py",
   "mimetype": "text/x-python",
   "name": "python",
   "nbconvert_exporter": "python",
   "pygments_lexer": "ipython3",
   "version": "3.6.5"
  }
 },
 "nbformat": 4,
 "nbformat_minor": 2
}
